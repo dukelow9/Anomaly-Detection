{
 "cells": [
  {
   "cell_type": "code",
   "execution_count": 1,
   "id": "ca00b5dd",
   "metadata": {},
   "outputs": [
    {
     "name": "stdout",
     "output_type": "stream",
     "text": [
      "Requirement already satisfied: PyWavelets in c:\\users\\george\\pycharmprojects\\gitfif\\venv\\lib\\site-packages (1.5.0)\n",
      "Requirement already satisfied: numpy<2.0,>=1.22.4 in c:\\users\\george\\pycharmprojects\\gitfif\\venv\\lib\\site-packages (from PyWavelets) (1.26.2)\n"
     ]
    },
    {
     "name": "stderr",
     "output_type": "stream",
     "text": [
      "\n",
      "[notice] A new release of pip available: 22.3.1 -> 24.0\n",
      "[notice] To update, run: python.exe -m pip install --upgrade pip\n"
     ]
    },
    {
     "name": "stdout",
     "output_type": "stream",
     "text": [
      "Requirement already satisfied: statsmodels in c:\\users\\george\\pycharmprojects\\gitfif\\venv\\lib\\site-packages (0.14.1)\n",
      "Requirement already satisfied: scipy!=1.9.2,>=1.4 in c:\\users\\george\\pycharmprojects\\gitfif\\venv\\lib\\site-packages (from statsmodels) (1.10.1)\n",
      "Requirement already satisfied: pandas!=2.1.0,>=1.0 in c:\\users\\george\\pycharmprojects\\gitfif\\venv\\lib\\site-packages (from statsmodels) (2.1.4)\n",
      "Requirement already satisfied: numpy<2,>=1.18 in c:\\users\\george\\pycharmprojects\\gitfif\\venv\\lib\\site-packages (from statsmodels) (1.26.2)\n",
      "Requirement already satisfied: packaging>=21.3 in c:\\users\\george\\pycharmprojects\\gitfif\\venv\\lib\\site-packages (from statsmodels) (23.2)\n",
      "Requirement already satisfied: patsy>=0.5.4 in c:\\users\\george\\pycharmprojects\\gitfif\\venv\\lib\\site-packages (from statsmodels) (0.5.6)\n",
      "Requirement already satisfied: tzdata>=2022.1 in c:\\users\\george\\pycharmprojects\\gitfif\\venv\\lib\\site-packages (from pandas!=2.1.0,>=1.0->statsmodels) (2023.3)\n",
      "Requirement already satisfied: pytz>=2020.1 in c:\\users\\george\\pycharmprojects\\gitfif\\venv\\lib\\site-packages (from pandas!=2.1.0,>=1.0->statsmodels) (2023.3.post1)\n",
      "Requirement already satisfied: python-dateutil>=2.8.2 in c:\\users\\george\\pycharmprojects\\gitfif\\venv\\lib\\site-packages (from pandas!=2.1.0,>=1.0->statsmodels) (2.8.2)\n",
      "Requirement already satisfied: six in c:\\users\\george\\pycharmprojects\\gitfif\\venv\\lib\\site-packages (from patsy>=0.5.4->statsmodels) (1.16.0)\n"
     ]
    },
    {
     "name": "stderr",
     "output_type": "stream",
     "text": [
      "\n",
      "[notice] A new release of pip available: 22.3.1 -> 24.0\n",
      "[notice] To update, run: python.exe -m pip install --upgrade pip\n",
      "C:\\Users\\George\\AppData\\Local\\Temp\\ipykernel_13264\\4078342116.py:29: UserWarning: Could not infer format, so each element will be parsed individually, falling back to `dateutil`. To ensure parsing is consistent and as-expected, please specify a format.\n",
      "  df1['Date'] = pd.to_datetime(df1['Date'])\n",
      "C:\\Users\\George\\AppData\\Local\\Temp\\ipykernel_13264\\4078342116.py:35: UserWarning: Could not infer format, so each element will be parsed individually, falling back to `dateutil`. To ensure parsing is consistent and as-expected, please specify a format.\n",
      "  df2['Date'] = pd.to_datetime(df2['Date'])\n",
      "C:\\Users\\George\\AppData\\Local\\Temp\\ipykernel_13264\\4078342116.py:48: UserWarning: Could not infer format, so each element will be parsed individually, falling back to `dateutil`. To ensure parsing is consistent and as-expected, please specify a format.\n",
      "  df4['Date'] = pd.to_datetime(df4['Date'])\n",
      "C:\\Users\\George\\AppData\\Local\\Temp\\ipykernel_13264\\4078342116.py:54: DtypeWarning: Columns (4,5,8,9,10,12,13,14) have mixed types. Specify dtype option on import or set low_memory=False.\n",
      "  df5 = pd.read_csv(r'C:\\Users\\George\\Documents\\Physics\\Year 3\\Part 2\\Group Project\\Data\\logreturns1.csv',index_col=0)\n",
      "C:\\Users\\George\\AppData\\Local\\Temp\\ipykernel_13264\\4078342116.py:56: UserWarning: Could not infer format, so each element will be parsed individually, falling back to `dateutil`. To ensure parsing is consistent and as-expected, please specify a format.\n",
      "  df5['Date'] = pd.to_datetime(df5['Date'])\n",
      "C:\\Users\\George\\AppData\\Local\\Temp\\ipykernel_13264\\4078342116.py:60: DtypeWarning: Columns (4,5,10,12,13,14) have mixed types. Specify dtype option on import or set low_memory=False.\n",
      "  df6 = pd.read_csv(r'C:\\Users\\George\\Documents\\Physics\\Year 3\\Part 2\\Group Project\\Data\\logreturns2.csv',index_col=0)\n",
      "C:\\Users\\George\\AppData\\Local\\Temp\\ipykernel_13264\\4078342116.py:62: UserWarning: Could not infer format, so each element will be parsed individually, falling back to `dateutil`. To ensure parsing is consistent and as-expected, please specify a format.\n",
      "  df6['Date'] = pd.to_datetime(df6['Date'])\n",
      "C:\\Users\\George\\AppData\\Local\\Temp\\ipykernel_13264\\4078342116.py:65: DtypeWarning: Columns (5,6,11,13,14,15) have mixed types. Specify dtype option on import or set low_memory=False.\n",
      "  df7 = pd.read_csv(r'C:\\Users\\George\\Documents\\Physics\\Year 3\\Part 2\\Group Project\\Data\\logreturns2 anoms.csv',index_col=0)\n",
      "C:\\Users\\George\\AppData\\Local\\Temp\\ipykernel_13264\\4078342116.py:67: UserWarning: Could not infer format, so each element will be parsed individually, falling back to `dateutil`. To ensure parsing is consistent and as-expected, please specify a format.\n",
      "  df7['Date'] = pd.to_datetime(df7['Date'])\n"
     ]
    }
   ],
   "source": [
    "import numpy as np\n",
    "import matplotlib.pyplot as plt\n",
    "import fif as FIF\n",
    "import matplotlib\n",
    "import pandas as pd\n",
    "from datetime import date\n",
    "!pip install PyWavelets\n",
    "import pywt\n",
    "from scipy.signal import convolve2d\n",
    "from sklearn import datasets\n",
    "from sklearn import feature_selection\n",
    "from sklearn import metrics\n",
    "from sklearn.ensemble import IsolationForest\n",
    "from sklearn.metrics import roc_curve, auc\n",
    "!pip install statsmodels\n",
    "import statsmodels.api as sm\n",
    "from statsmodels.graphics.tsaplots import plot_acf\n",
    "from statsmodels.tsa.stattools import acf\n",
    "import csv\n",
    "\n",
    "import sklearn\n",
    "\n",
    "\n",
    "#Importing various datasets\n",
    "\n",
    "#dataset 1\n",
    "df1 = pd.read_csv(r'C:\\Users\\George\\Documents\\Physics\\Year 3\\Part 2\\Group Project\\Data\\data 1.csv',index_col=0)\n",
    "df1=df1.replace(np.NaN,0)\n",
    "df1['Date'] = pd.to_datetime(df1['Date'])\n",
    "train1 = df1[(df1['Date'] < '2022-01-01')]\n",
    "test1 = df1[(df1['Date'] > '2022-01-01')]\n",
    "\n",
    "#dataset 2\n",
    "df2 = pd.read_csv(r'C:\\Users\\George\\Documents\\Physics\\Year 3\\Part 2\\Group Project\\Data\\data 2.csv',index_col=0)\n",
    "df2['Date'] = pd.to_datetime(df2['Date'])\n",
    "df2=df2.replace(np.NaN,0)\n",
    "train2 = df2[(df2['Date'] < '2022-01-01')]\n",
    "test2 = df2[(df2['Date'] > '2022-01-01')]\n",
    "\n",
    "\n",
    "#autocorrelation values (Spot Only)\n",
    "autocor = pd.read_csv(r'C:\\Users\\George\\Documents\\Physics\\Year 3\\Part 2\\Group Project\\Data\\Autocorrelation lengths.csv')\n",
    "\n",
    "\n",
    "#dataset 2 with true anoms\n",
    "df4 = pd.read_csv(r'C:\\Users\\George\\Documents\\Physics\\Year 3\\Part 2\\Group Project\\Data\\data 2 anoms.csv',index_col=0)\n",
    "df4=df4.replace(np.NaN,0)\n",
    "df4['Date'] = pd.to_datetime(df4['Date'])\n",
    "train4 = df4[(df4['Date'] < '2022-01-01')]\n",
    "test4 = df4[(df4['Date'] > '2022-01-01')]\n",
    "\n",
    "\n",
    "#log returns of dataset 1\n",
    "df5 = pd.read_csv(r'C:\\Users\\George\\Documents\\Physics\\Year 3\\Part 2\\Group Project\\Data\\logreturns1.csv',index_col=0)\n",
    "df5=df5.replace(0,np.NaN)\n",
    "df5['Date'] = pd.to_datetime(df5['Date'])\n",
    "\n",
    "\n",
    "#log returns of dataset 2\n",
    "df6 = pd.read_csv(r'C:\\Users\\George\\Documents\\Physics\\Year 3\\Part 2\\Group Project\\Data\\logreturns2.csv',index_col=0)\n",
    "df6=df6.replace(np.NaN,0)\n",
    "df6['Date'] = pd.to_datetime(df6['Date'])\n",
    "\n",
    "#log returns of dataset 2 with true anoms\n",
    "df7 = pd.read_csv(r'C:\\Users\\George\\Documents\\Physics\\Year 3\\Part 2\\Group Project\\Data\\logreturns2 anoms.csv',index_col=0)\n",
    "df7=df7.replace(np.NaN,0)\n",
    "df7['Date'] = pd.to_datetime(df7['Date'])\n",
    "\n",
    "#replacing any missing values with 0 in the log return files. this can be changed to any value\n",
    "df7=df7.replace('#NUM!',0)\n",
    "df6=df6.replace('#NUM!',0)\n",
    "df7=df7.replace('#DIV/0!',0)\n",
    "df6=df6.replace('#DIV/0',0)"
   ]
  },
  {
   "cell_type": "code",
   "execution_count": 2,
   "id": "6d330d62",
   "metadata": {},
   "outputs": [
    {
     "name": "stderr",
     "output_type": "stream",
     "text": [
      "C:\\Users\\George\\AppData\\Local\\Temp\\ipykernel_13264\\3564947319.py:6: UserWarning: Could not infer format, so each element will be parsed individually, falling back to `dateutil`. To ensure parsing is consistent and as-expected, please specify a format.\n",
      "  dates = pd.to_datetime(dataOI['Date'])\n"
     ]
    },
    {
     "name": "stdout",
     "output_type": "stream",
     "text": [
      "103\n"
     ]
    }
   ],
   "source": [
    "#This first class is extracted from Benjamin's autocorrelation value function \n",
    "class log_returns_class():\n",
    "    def __init__(self, currencyOfInterest, Rate, log_gap, ):\n",
    "        df = pd.read_csv(r'C:\\Users\\George\\Documents\\Physics\\Year 3\\Part 2\\Group Project\\Data\\data 2.csv',index_col=0)\n",
    "        dataOI = df[df['Currency']==currencyOfInterest]\n",
    "        dates = pd.to_datetime(dataOI['Date'])\n",
    "        spotRates = dataOI[Rate]\n",
    "        self.log_returns = np.log(spotRates.shift(log_gap)/spotRates)\n",
    "        self.dates_log = dates.shift(log_gap)\n",
    "        self.log_gap = log_gap\n",
    "        self.spotRates = spotRates\n",
    "        \n",
    "        \n",
    "    def autocorl_length(self):\n",
    "        acf,confidence_interval=sm.tsa.acf(self.spotRates,nlags=len(self.spotRates), alpha=0.05,fft=False)\n",
    "        lower_bound = confidence_interval[1:, 0] - acf[1:]\n",
    "        for i in range(len(acf)):\n",
    "            if (-lower_bound[i])>acf[i]:\n",
    "                self.AUTO_length = i\n",
    "                break\n",
    "        return self.AUTO_length\n",
    "\n",
    "#This returns the autocorl length of the data returns as \"self.AUTO_length\"\n",
    "\n",
    "\n",
    "\n",
    "#This class contains functions to set paramters, use wavelet transforms, run the FIF and the IF Selection method, as well as run an ROC test\n",
    "#ac should be the autocorl length from the previous class\n",
    "#I am using dataset 2 for both train and test, since for the FIF you do not actually use a training dataset.\n",
    "class waveletsplit:\n",
    "    def __init__(self, train, test, currency, ac):\n",
    "        self.train = train\n",
    "        self.test = test\n",
    "        self.currency = currency\n",
    "        self.ratetitle = ['Date', 'Spot Rate', '1W Rate', '2W Rate', '3W Rate', '1M Rate', '2M Rate', '3M Rate', '4M Rate', '6M Rate', '9M Rate', '1Y Rate', '2Y Rate', '3Y Rate', '4Y Rate', '5Y Rate', '10Y Rate']\n",
    "        #self.window = ac.loc[ac['Currency'] == self.currency, 'Autocorrelation length'].iloc[0]\n",
    "        self.window=ac\n",
    "        \n",
    "    #Seperating the desired currency\n",
    "    def currencyset(self):\n",
    "        self.ctrain= self.train.loc[self.train['Currency'] == str(self.currency)]\n",
    "        self.ctrain=self.ctrain.drop(labels=['Currency'], axis=1)\n",
    "    \n",
    "        self.ctest= self.test.loc[self.test['Currency'] == str(self.currency)]\n",
    "        self.ctest=self.ctest.drop(labels=['Currency'], axis=1)\n",
    "        return self.ctrain,self.ctest\n",
    "    \n",
    "    #turns the pandas dataframe to an array\n",
    "    def currencytoarray(self):\n",
    "        self.atrain=self.ctrain[self.ratetitle].to_numpy(na_value=0)\n",
    "        self.atrain=np.transpose(self.atrain)\n",
    "    \n",
    "        self.atest=self.ctest[self.ratetitle].to_numpy(na_value=0)\n",
    "        self.atest=np.transpose(self.atest)\n",
    "    \n",
    "        for i in range(0,len(self.atrain[0])):\n",
    "            self.atrain[0,i]=self.atrain[0,i].timestamp()\n",
    "        for i in range(0,len(self.atest[0])):\n",
    "            self.atest[0,i]=self.atest[0,i].timestamp()\n",
    "        \n",
    "        self.atrain=np.float64(self.atrain)\n",
    "        self.atest=np.float64(self.atest)        \n",
    "        return self.atrain,self.atest\n",
    "        \n",
    "    #Choose the rate you want to use in the FIF (e.g. 'Spot Rate')\n",
    "    def arraytorate(self,rate):\n",
    "        a=self.ratetitle.index(str(rate))\n",
    "        self.ratetrain=self.atrain[a]\n",
    "        self.ratetest=self.atest[a]\n",
    "        return self.ratetrain,self.ratetest\n",
    "        \n",
    "    #turn the rate of a currency into a window \n",
    "    def towindows(self,overlap):\n",
    "        self.trainwindows=[]\n",
    "        self.testwindows=[]\n",
    "        self.overlap=overlap\n",
    "        for i in range(0,len(self.ratetrain)-self.window,overlap):\n",
    "            wind=self.ratetrain[i:i+self.window]\n",
    "            self.trainwindows.append(wind)\n",
    "            \n",
    "        for i in range(0,len(self.ratetest)-self.window,overlap):\n",
    "            wind=self.ratetest[i:i+self.window]\n",
    "            self.testwindows.append(wind)\n",
    "            return self.trainwindows,self.testwindows\n",
    "        \n",
    "    #turn each window into a wavelet USING VARIANCE METHOD\n",
    "    def wintowaveletvar(self,wavelet,scale1,scale2):\n",
    "        self.wavelet=wavelet\n",
    "        scales = np.arange(scale1, scale2)\n",
    "        self.traincoeffs=[]\n",
    "        self.testcoeffs=[]\n",
    "        bs1=[]\n",
    "        for i in range(0,len(self.trainwindows)):\n",
    "            coefficients, frequencies = pywt.cwt(self.trainwindows[i], scales, self.wavelet)\n",
    "            #choosing scale based on which provides most variance between coefficients\n",
    "            variances = np.var(coefficients, axis=1)\n",
    "            best_scale = np.argmax(variances)\n",
    "            bs1.append(best_scale)\n",
    "            self.traincoeffs.append(coefficients[best_scale])\n",
    "        \n",
    "            \n",
    "        for i in range(0,len(self.testwindows)):\n",
    "            self.coefficients, self.frequencies = pywt.cwt(self.testwindows[i], scales, self.wavelet)\n",
    "            #choosing scale based on which provides most variance between coefficients\n",
    "            variances = np.var(coefficients, axis=1)\n",
    "            best_scale = np.argmax(variances)\n",
    "            self.testcoeffs.append(coefficients[best_scale])\n",
    "            \n",
    "        return self.traincoeffs,self.testcoeffs,bs1\n",
    "    \n",
    "    #OR turn each window into a wavelet USING MEAN METHOD\n",
    "    def wintowaveletmean(self,wavelet,scale1,scale2):\n",
    "        self.wavelet=wavelet\n",
    "        scales = np.arange(scale1, scale2)\n",
    "        self.traincoeffs=[]\n",
    "        self.testcoeffs=[]\n",
    "        bs2=[]\n",
    "        mean=[]\n",
    "        for i in range(0,len(self.trainwindows)):\n",
    "            coefficients, frequencies = pywt.cwt(self.trainwindows[i], scales, self.wavelet)\n",
    "            #choosing scale based on which provides largest mean\n",
    "            for s in range(0,coefficients.shape[0]):\n",
    "                mean.append(np.mean(coefficients[s], axis=0))\n",
    "            best_scale =np.argmax(np.abs(mean))\n",
    "            bs2.append(best_scale)\n",
    "            mean=[]\n",
    "            self.traincoeffs.append(coefficients[best_scale])\n",
    "            \n",
    "            \n",
    "        for i in range(0,len(self.testwindows)):\n",
    "            self.coefficients, self.frequencies = pywt.cwt(self.testwindows[i], scales, self.wavelet)\n",
    "            #choosing scale based on which provides largest mean\n",
    "            for s in range(0,coefficients.shape[0]):\n",
    "                mean.append(np.mean(coefficients[s], axis=0))\n",
    "            best_scale =np.argmax(np.abs(mean))\n",
    "            bs2.append(best_scale)\n",
    "            mean=[]\n",
    "            self.testcoeffs.append(coefficients[best_scale])\n",
    "            \n",
    "        return self.traincoeffs,self.testcoeffs,bs2\n",
    "    \n",
    "    #reconstructing the data from the wavelet\n",
    "    def waveletreco(self):\n",
    "        self.trainreco = pywt.waverec([self.traincoeffs], self.wavelet)\n",
    "        self.testreco = pywt.waverec([self.testcoeffs], self.wavelet)\n",
    "\n",
    "        return self.trainreco,self.testreco\n",
    "\n",
    "    #running the FIF on the data provided\n",
    "    def FuncIF(self, data, dic):\n",
    "        data2=data\n",
    "        a=list(range(0,len(data[0])))\n",
    "        data2.insert(0,a)\n",
    "        data2=np.float64(data2)\n",
    "            #data[0] should be the timeframe of the dataset\n",
    "        F = FIF.FiForest(data2, data2[0],  sample_size=self.window, alpha=0.5, dic_number=dic)\n",
    "            # dic_number set the dictionary where data are projected.three dictionaries are available:\n",
    "            # 0 corresponds to Brownian motion, 1 to gaussian wavelets and 2 to cosine dictionary.\n",
    "        S1 = F.compute_paths()\n",
    "        return S1\n",
    "            \n",
    "\n",
    "\n",
    "    #This is the IF Selection method to find an anomalous point within a given anomalous window\n",
    "    #data2 should be the results from the FIF\n",
    "    #I am using the log returns of dataset 1 to train the IF, and the log returns of dataset 2 for testing. I perform a currency set\n",
    "    #and a few other details later in the code\n",
    "    def findanoms(self, data2, contam, training, testing, anomaly_inputs):\n",
    "        windowanom=[]\n",
    "        scores=pd.DataFrame(data=data2,columns=['AnomalyScore'])\n",
    "        scores=scores.sort_values(by='AnomalyScore',ascending=False)\n",
    "        anoms = scores['AnomalyScore'].nlargest(int(len(scores['AnomalyScore']) * contam))\n",
    "        model = IsolationForest(contamination=0.02, random_state=42)\n",
    "        model.fit(training[anomaly_inputs])\n",
    "        for i in range(0,len(anoms.index)):\n",
    "            testpoints=testing[anoms.index[i]:anoms.index[i]+self.window]\n",
    "            \n",
    "            #switch to these if want to randomise the window for IF Selection\n",
    "            #testpointsrand=testpoints.sample(frac=1, random_state=42)\n",
    "            #pointanom=model.decision_function(testpointsrand[anomaly_inputs])\n",
    "            \n",
    "            \n",
    "            pointanom=model.decision_function(testpoints[anomaly_inputs])\n",
    "            pointanom=pd.DataFrame(pointanom,columns = ['Anomalyscore'])\n",
    "            pointanom.index.name='id'\n",
    "            pointanom=pointanom.sort_values(by='Anomalyscore',ascending=True)\n",
    "            point=pointanom.iloc[0].name+anoms.index[i]\n",
    "            \n",
    "            #this loop ensures we do not get duplicate values returned as anomalies\n",
    "            j=0\n",
    "            while j < len(pointanom):\n",
    "                point = pointanom.iloc[j].name + anoms.index[i]\n",
    "                if point not in windowanom:\n",
    "                    windowanom.append(point)\n",
    "                    break\n",
    "                j += 1\n",
    "            \n",
    "            \n",
    "        return windowanom\n",
    "    \n",
    "    #This completes and ROC evaluation of the method\n",
    "    def rocauc(self,trues):\n",
    "        tot = self.ctest.shape[0]\n",
    "        contam = []\n",
    "        TPR = []\n",
    "        FPR = []\n",
    "        trupos=[]\n",
    "    \n",
    "        for i in np.arange(0, 1, 0.01):\n",
    "            #The variables in this findanoms function should be altered as needed\n",
    "            anoms=self.findanoms(reco1, i,c3,c4,['Spot Rate', '1W Rate', '2W Rate', '3W Rate', '1M Rate', '2M Rate', '3M Rate', '4M Rate', '6M Rate', '9M Rate', '1Y Rate', '2Y Rate', '3Y Rate', '4Y Rate', '5Y Rate', '10Y Rate'])\n",
    "            anoms=list(set(anoms))\n",
    "            anoms = pd.DataFrame(index=anoms)\n",
    "\n",
    "        \n",
    "            # Calculate TP, FP, FN, TN\n",
    "            TP = (anoms.merge(trues,left_index=True, right_index=True)).shape[0]\n",
    "            FP = len(anoms) - TP\n",
    "            FN = len(trues) - TP\n",
    "            TN = tot - TP - FP - FN\n",
    "            ol=TP/(TP+FN)*100\n",
    "            trupos.append(ol)\n",
    "        \n",
    "            print('TP:',TP)\n",
    "            print('FP:',FP)\n",
    "            print('FN:',FN)\n",
    "            print('TN:',TN)\n",
    "        \n",
    "            # Calculate TPR and FPR\n",
    "            if TP + FN != 0:\n",
    "                tpr = TP / (TP + FN)\n",
    "            else:\n",
    "                tpr = 0\n",
    "            if FP + TN != 0:\n",
    "                fpr = FP / (FP + TN)\n",
    "            else:\n",
    "                fpr = 0\n",
    "        \n",
    "            # Append to lists\n",
    "            contam.append(i)\n",
    "            TPR.append(tpr)\n",
    "            FPR.append(fpr)\n",
    "        \n",
    "        \n",
    "        return contam, TPR, FPR, trupos\n",
    "    \n",
    "    \n",
    "    \n",
    "\n",
    "\n",
    "#Setting the currency and spot rate desired for the autocorrelation function\n",
    "currencyOfInterest = 'GBP'\n",
    "Rate = \"5Y Rate\"\n",
    "\n",
    "log_gap = 1\n",
    "LOG_RET = log_returns_class(currencyOfInterest, Rate, log_gap)\n",
    "\n",
    "#ac is the autocorrelation value desired\n",
    "ac=LOG_RET.autocorl_length()\n",
    "print(ac)\n",
    "\n",
    "#initialising the class to run the FIF using dataset 2 \n",
    "wavelet1=waveletsplit(df2,df2,'GBP',ac)\n",
    "#simply setting the currency \n",
    "c1,c2=wavelet1.currencyset()\n",
    "#turning the dataframe to an array\n",
    "wavelet1.currencytoarray()\n",
    "#setting the desired tenor\n",
    "wavelet1.arraytorate('5Y Rate')\n",
    "#changing the dataset into windows, with an overlap of 1\n",
    "wavelet1.towindows(1)\n",
    "#completing a wavelet transform, with a variance scale selection. I have selected to only view scales between 1 and 190, \n",
    "#as I have found this to be sufficient for capturing all important data\n",
    "GBPtrain1coeff,GBPtest1coeff,bs=wavelet1.wintowaveletvar('gaus5',1,190)\n",
    "\n",
    "#this next line can be used instead of the previous line, if want to use the mean scale selection method\n",
    "#GBPtrain1coeff,GBPtest1coeff,bs=wavelet1.wintowaveletmean('gaus5',1,190)\n",
    "\n",
    "#Reconstructing the values from the wavelet transform\n",
    "GBPtrain1reco,GBPtest1reco=wavelet1.waveletreco()\n",
    "\n",
    "#Either of these lines can be used depending on if you wish to use the FIF with the wavelet coefficients, or the reconstructed values\n",
    "#The number represents the dictionary:\n",
    "#0 = Brownian Motion, 1 = Gaussian Wavelet, 2 = Cosine\n",
    "\n",
    "#coeff1=wavelet1.FuncIF(GBPtrain1coeff,0)\n",
    "reco1=wavelet1.FuncIF(GBPtrain1reco,0)"
   ]
  },
  {
   "cell_type": "code",
   "execution_count": 3,
   "id": "216060b0",
   "metadata": {},
   "outputs": [
    {
     "name": "stderr",
     "output_type": "stream",
     "text": [
      "C:\\Users\\George\\PycharmProjects\\GITFIF\\venv\\lib\\site-packages\\sklearn\\base.py:420: UserWarning: X does not have valid feature names, but IsolationForest was fitted with feature names\n",
      "  warnings.warn(\n"
     ]
    }
   ],
   "source": [
    "#Initialising the log return datasets to use in the IF Selection Method\n",
    "wavelet2=waveletsplit(df5,df7,'GBP',ac)\n",
    "c3,c4=wavelet2.currencyset()\n",
    "\n",
    "#replacing any NaNs with 0, can be set to any number\n",
    "c3=c3.replace(np.NaN,0)\n",
    "c4=c4.replace(np.NaN,0)\n",
    "c4=c4.replace('#NUM!',0)\n",
    "c3=c3.replace('#NUM!',0)\n",
    "c4=c4.replace('#DIV/0!',0)\n",
    "c3=c3.replace('#DIV/0!',0)\n",
    "\n",
    "#this nect line is sufficient if you wish to find the final anomaly values of a certain contamination level. Remember to swap\n",
    "#reco1 for coeff1 if you wish to use the FIF on the wavelet coefficients. \n",
    "#The tenors can also be changed for the IF selection method by altering the array below\n",
    "a=wavelet2.findanoms(reco1,0.1,c3,c4,['Spot Rate', '1W Rate', '2W Rate', '3W Rate', '1M Rate', '2M Rate', '3M Rate', '4M Rate', '6M Rate', '9M Rate', '1Y Rate', '2Y Rate', '3Y Rate', '4Y Rate', '5Y Rate', '10Y Rate'])\n"
   ]
  },
  {
   "cell_type": "code",
   "execution_count": 9,
   "id": "9cc545ff",
   "metadata": {},
   "outputs": [],
   "source": [
    "#determining the true anomalies given in the dataset\n",
    "true= df4.loc[df4['Currency'] == 'GBP']\n",
    "true=true.loc[true['Anomaly'] == 1]\n"
   ]
  },
  {
   "cell_type": "code",
   "execution_count": 5,
   "id": "46cb6657",
   "metadata": {},
   "outputs": [
    {
     "data": {
      "text/html": [
       "<div>\n",
       "<style scoped>\n",
       "    .dataframe tbody tr th:only-of-type {\n",
       "        vertical-align: middle;\n",
       "    }\n",
       "\n",
       "    .dataframe tbody tr th {\n",
       "        vertical-align: top;\n",
       "    }\n",
       "\n",
       "    .dataframe thead th {\n",
       "        text-align: right;\n",
       "    }\n",
       "</style>\n",
       "<table border=\"1\" class=\"dataframe\">\n",
       "  <thead>\n",
       "    <tr style=\"text-align: right;\">\n",
       "      <th></th>\n",
       "      <th>Value</th>\n",
       "      <th>Count</th>\n",
       "    </tr>\n",
       "  </thead>\n",
       "  <tbody>\n",
       "    <tr>\n",
       "      <th>0</th>\n",
       "      <td>4</td>\n",
       "      <td>1</td>\n",
       "    </tr>\n",
       "    <tr>\n",
       "      <th>1</th>\n",
       "      <td>1768</td>\n",
       "      <td>1</td>\n",
       "    </tr>\n",
       "    <tr>\n",
       "      <th>2</th>\n",
       "      <td>887</td>\n",
       "      <td>1</td>\n",
       "    </tr>\n",
       "    <tr>\n",
       "      <th>3</th>\n",
       "      <td>868</td>\n",
       "      <td>1</td>\n",
       "    </tr>\n",
       "    <tr>\n",
       "      <th>4</th>\n",
       "      <td>891</td>\n",
       "      <td>1</td>\n",
       "    </tr>\n",
       "    <tr>\n",
       "      <th>...</th>\n",
       "      <td>...</td>\n",
       "      <td>...</td>\n",
       "    </tr>\n",
       "    <tr>\n",
       "      <th>165</th>\n",
       "      <td>892</td>\n",
       "      <td>1</td>\n",
       "    </tr>\n",
       "    <tr>\n",
       "      <th>166</th>\n",
       "      <td>899</td>\n",
       "      <td>1</td>\n",
       "    </tr>\n",
       "    <tr>\n",
       "      <th>167</th>\n",
       "      <td>621</td>\n",
       "      <td>1</td>\n",
       "    </tr>\n",
       "    <tr>\n",
       "      <th>168</th>\n",
       "      <td>910</td>\n",
       "      <td>1</td>\n",
       "    </tr>\n",
       "    <tr>\n",
       "      <th>169</th>\n",
       "      <td>574</td>\n",
       "      <td>1</td>\n",
       "    </tr>\n",
       "  </tbody>\n",
       "</table>\n",
       "<p>170 rows × 2 columns</p>\n",
       "</div>"
      ],
      "text/plain": [
       "     Value  Count\n",
       "0        4      1\n",
       "1     1768      1\n",
       "2      887      1\n",
       "3      868      1\n",
       "4      891      1\n",
       "..     ...    ...\n",
       "165    892      1\n",
       "166    899      1\n",
       "167    621      1\n",
       "168    910      1\n",
       "169    574      1\n",
       "\n",
       "[170 rows x 2 columns]"
      ]
     },
     "execution_count": 5,
     "metadata": {},
     "output_type": "execute_result"
    }
   ],
   "source": [
    "#Viewing the anomalies returned by the FIF and IF selection method\n",
    "\n",
    "df = pd.DataFrame({'Value': a})\n",
    "counts = df['Value'].value_counts().reset_index()\n",
    "counts.columns = ['Value', 'Count']\n",
    "\n",
    "counts"
   ]
  },
  {
   "cell_type": "code",
   "execution_count": 12,
   "id": "cdb9ba61",
   "metadata": {},
   "outputs": [
    {
     "data": {
      "text/html": [
       "<div>\n",
       "<style scoped>\n",
       "    .dataframe tbody tr th:only-of-type {\n",
       "        vertical-align: middle;\n",
       "    }\n",
       "\n",
       "    .dataframe tbody tr th {\n",
       "        vertical-align: top;\n",
       "    }\n",
       "\n",
       "    .dataframe thead th {\n",
       "        text-align: right;\n",
       "    }\n",
       "</style>\n",
       "<table border=\"1\" class=\"dataframe\">\n",
       "  <thead>\n",
       "    <tr style=\"text-align: right;\">\n",
       "      <th></th>\n",
       "      <th>Value</th>\n",
       "      <th>Anomaly</th>\n",
       "      <th>Date</th>\n",
       "      <th>SourceID</th>\n",
       "      <th>Currency</th>\n",
       "      <th>Spot Rate</th>\n",
       "      <th>1W Rate</th>\n",
       "      <th>2W Rate</th>\n",
       "      <th>3W Rate</th>\n",
       "      <th>1M Rate</th>\n",
       "      <th>...</th>\n",
       "      <th>3M Rate</th>\n",
       "      <th>4M Rate</th>\n",
       "      <th>6M Rate</th>\n",
       "      <th>9M Rate</th>\n",
       "      <th>1Y Rate</th>\n",
       "      <th>2Y Rate</th>\n",
       "      <th>3Y Rate</th>\n",
       "      <th>4Y Rate</th>\n",
       "      <th>5Y Rate</th>\n",
       "      <th>10Y Rate</th>\n",
       "    </tr>\n",
       "  </thead>\n",
       "  <tbody>\n",
       "    <tr>\n",
       "      <th>0</th>\n",
       "      <td>4</td>\n",
       "      <td>1</td>\n",
       "      <td>2017-07-31</td>\n",
       "      <td>13311453</td>\n",
       "      <td>GBP</td>\n",
       "      <td>1.38430</td>\n",
       "      <td>1.38447</td>\n",
       "      <td>1.38454</td>\n",
       "      <td>1.38475</td>\n",
       "      <td>1.38508</td>\n",
       "      <td>...</td>\n",
       "      <td>1.38664</td>\n",
       "      <td>1.38727</td>\n",
       "      <td>1.38901</td>\n",
       "      <td>1.39115</td>\n",
       "      <td>1.39382</td>\n",
       "      <td>1.40429</td>\n",
       "      <td>1.41541</td>\n",
       "      <td>1.42708</td>\n",
       "      <td>1.43864</td>\n",
       "      <td>1.49244</td>\n",
       "    </tr>\n",
       "    <tr>\n",
       "      <th>8</th>\n",
       "      <td>1712</td>\n",
       "      <td>1</td>\n",
       "      <td>2022-09-25</td>\n",
       "      <td>13311453</td>\n",
       "      <td>GBP</td>\n",
       "      <td>1.16693</td>\n",
       "      <td>1.16730</td>\n",
       "      <td>1.16714</td>\n",
       "      <td>1.16729</td>\n",
       "      <td>1.16745</td>\n",
       "      <td>...</td>\n",
       "      <td>1.16819</td>\n",
       "      <td>1.16865</td>\n",
       "      <td>1.16911</td>\n",
       "      <td>1.16954</td>\n",
       "      <td>1.17048</td>\n",
       "      <td>1.16942</td>\n",
       "      <td>1.17023</td>\n",
       "      <td>1.17345</td>\n",
       "      <td>1.17938</td>\n",
       "      <td>1.22580</td>\n",
       "    </tr>\n",
       "    <tr>\n",
       "      <th>21</th>\n",
       "      <td>885</td>\n",
       "      <td>1</td>\n",
       "      <td>2020-05-19</td>\n",
       "      <td>13311453</td>\n",
       "      <td>GBP</td>\n",
       "      <td>1.22264</td>\n",
       "      <td>1.22273</td>\n",
       "      <td>1.22304</td>\n",
       "      <td>1.22322</td>\n",
       "      <td>1.22335</td>\n",
       "      <td>...</td>\n",
       "      <td>1.22515</td>\n",
       "      <td>1.22558</td>\n",
       "      <td>1.22702</td>\n",
       "      <td>1.22863</td>\n",
       "      <td>1.23011</td>\n",
       "      <td>1.23566</td>\n",
       "      <td>1.24093</td>\n",
       "      <td>1.24735</td>\n",
       "      <td>1.25414</td>\n",
       "      <td>1.30039</td>\n",
       "    </tr>\n",
       "    <tr>\n",
       "      <th>35</th>\n",
       "      <td>890</td>\n",
       "      <td>1</td>\n",
       "      <td>2020-05-25</td>\n",
       "      <td>13311453</td>\n",
       "      <td>GBP</td>\n",
       "      <td>1.24880</td>\n",
       "      <td>1.24891</td>\n",
       "      <td>1.24920</td>\n",
       "      <td>1.24954</td>\n",
       "      <td>1.24961</td>\n",
       "      <td>...</td>\n",
       "      <td>1.25106</td>\n",
       "      <td>1.25172</td>\n",
       "      <td>1.25286</td>\n",
       "      <td>1.25470</td>\n",
       "      <td>1.25639</td>\n",
       "      <td>1.26262</td>\n",
       "      <td>1.26875</td>\n",
       "      <td>1.27533</td>\n",
       "      <td>1.28257</td>\n",
       "      <td>1.32754</td>\n",
       "    </tr>\n",
       "    <tr>\n",
       "      <th>83</th>\n",
       "      <td>1692</td>\n",
       "      <td>1</td>\n",
       "      <td>2022-09-05</td>\n",
       "      <td>13311453</td>\n",
       "      <td>GBP</td>\n",
       "      <td>1.21229</td>\n",
       "      <td>1.21251</td>\n",
       "      <td>1.21226</td>\n",
       "      <td>1.21233</td>\n",
       "      <td>1.15111</td>\n",
       "      <td>...</td>\n",
       "      <td>1.21315</td>\n",
       "      <td>1.21403</td>\n",
       "      <td>1.21450</td>\n",
       "      <td>1.21526</td>\n",
       "      <td>1.21579</td>\n",
       "      <td>1.21790</td>\n",
       "      <td>1.22236</td>\n",
       "      <td>1.22799</td>\n",
       "      <td>1.23548</td>\n",
       "      <td>1.27483</td>\n",
       "    </tr>\n",
       "    <tr>\n",
       "      <th>111</th>\n",
       "      <td>1691</td>\n",
       "      <td>1</td>\n",
       "      <td>2022-09-04</td>\n",
       "      <td>13311453</td>\n",
       "      <td>GBP</td>\n",
       "      <td>1.21718</td>\n",
       "      <td>1.21712</td>\n",
       "      <td>1.21703</td>\n",
       "      <td>1.21716</td>\n",
       "      <td>1.21728</td>\n",
       "      <td>...</td>\n",
       "      <td>1.21786</td>\n",
       "      <td>1.21872</td>\n",
       "      <td>1.21926</td>\n",
       "      <td>1.22007</td>\n",
       "      <td>1.22064</td>\n",
       "      <td>1.22245</td>\n",
       "      <td>1.22699</td>\n",
       "      <td>1.23321</td>\n",
       "      <td>1.23998</td>\n",
       "      <td>1.27455</td>\n",
       "    </tr>\n",
       "  </tbody>\n",
       "</table>\n",
       "<p>6 rows × 21 columns</p>\n",
       "</div>"
      ],
      "text/plain": [
       "     Value  Anomaly       Date  SourceID Currency  Spot Rate  1W Rate  \\\n",
       "0        4        1 2017-07-31  13311453      GBP    1.38430  1.38447   \n",
       "8     1712        1 2022-09-25  13311453      GBP    1.16693  1.16730   \n",
       "21     885        1 2020-05-19  13311453      GBP    1.22264  1.22273   \n",
       "35     890        1 2020-05-25  13311453      GBP    1.24880  1.24891   \n",
       "83    1692        1 2022-09-05  13311453      GBP    1.21229  1.21251   \n",
       "111   1691        1 2022-09-04  13311453      GBP    1.21718  1.21712   \n",
       "\n",
       "     2W Rate  3W Rate  1M Rate  ...  3M Rate  4M Rate  6M Rate  9M Rate  \\\n",
       "0    1.38454  1.38475  1.38508  ...  1.38664  1.38727  1.38901  1.39115   \n",
       "8    1.16714  1.16729  1.16745  ...  1.16819  1.16865  1.16911  1.16954   \n",
       "21   1.22304  1.22322  1.22335  ...  1.22515  1.22558  1.22702  1.22863   \n",
       "35   1.24920  1.24954  1.24961  ...  1.25106  1.25172  1.25286  1.25470   \n",
       "83   1.21226  1.21233  1.15111  ...  1.21315  1.21403  1.21450  1.21526   \n",
       "111  1.21703  1.21716  1.21728  ...  1.21786  1.21872  1.21926  1.22007   \n",
       "\n",
       "     1Y Rate  2Y Rate  3Y Rate  4Y Rate  5Y Rate  10Y Rate  \n",
       "0    1.39382  1.40429  1.41541  1.42708  1.43864   1.49244  \n",
       "8    1.17048  1.16942  1.17023  1.17345  1.17938   1.22580  \n",
       "21   1.23011  1.23566  1.24093  1.24735  1.25414   1.30039  \n",
       "35   1.25639  1.26262  1.26875  1.27533  1.28257   1.32754  \n",
       "83   1.21579  1.21790  1.22236  1.22799  1.23548   1.27483  \n",
       "111  1.22064  1.22245  1.22699  1.23321  1.23998   1.27455  \n",
       "\n",
       "[6 rows x 21 columns]"
      ]
     },
     "execution_count": 12,
     "metadata": {},
     "output_type": "execute_result"
    }
   ],
   "source": [
    "#seeing how many anomalies the FIF returns are true positives\n",
    "truepositives=df.merge(true,left_on='Value',right_index=True)\n",
    "truepositives"
   ]
  },
  {
   "cell_type": "markdown",
   "id": "10094ccd",
   "metadata": {},
   "source": []
  },
  {
   "cell_type": "markdown",
   "id": "ac8fbc96",
   "metadata": {
    "scrolled": true
   },
   "source": []
  },
  {
   "cell_type": "markdown",
   "id": "8ccb8ab0",
   "metadata": {},
   "source": []
  },
  {
   "cell_type": "code",
   "execution_count": 13,
   "id": "077c9e49",
   "metadata": {},
   "outputs": [
    {
     "name": "stderr",
     "output_type": "stream",
     "text": [
      "C:\\Users\\George\\PycharmProjects\\GITFIF\\venv\\lib\\site-packages\\sklearn\\base.py:420: UserWarning: X does not have valid feature names, but IsolationForest was fitted with feature names\n",
      "  warnings.warn(\n"
     ]
    },
    {
     "name": "stdout",
     "output_type": "stream",
     "text": [
      "TP: 0\n",
      "FP: 0\n",
      "FN: 31\n",
      "TN: 1779\n"
     ]
    },
    {
     "name": "stderr",
     "output_type": "stream",
     "text": [
      "C:\\Users\\George\\PycharmProjects\\GITFIF\\venv\\lib\\site-packages\\sklearn\\base.py:420: UserWarning: X does not have valid feature names, but IsolationForest was fitted with feature names\n",
      "  warnings.warn(\n"
     ]
    },
    {
     "name": "stdout",
     "output_type": "stream",
     "text": [
      "TP: 2\n",
      "FP: 15\n",
      "FN: 29\n",
      "TN: 1764\n"
     ]
    },
    {
     "name": "stderr",
     "output_type": "stream",
     "text": [
      "C:\\Users\\George\\PycharmProjects\\GITFIF\\venv\\lib\\site-packages\\sklearn\\base.py:420: UserWarning: X does not have valid feature names, but IsolationForest was fitted with feature names\n",
      "  warnings.warn(\n"
     ]
    },
    {
     "name": "stdout",
     "output_type": "stream",
     "text": [
      "TP: 3\n",
      "FP: 31\n",
      "FN: 28\n",
      "TN: 1748\n"
     ]
    },
    {
     "name": "stderr",
     "output_type": "stream",
     "text": [
      "C:\\Users\\George\\PycharmProjects\\GITFIF\\venv\\lib\\site-packages\\sklearn\\base.py:420: UserWarning: X does not have valid feature names, but IsolationForest was fitted with feature names\n",
      "  warnings.warn(\n"
     ]
    },
    {
     "name": "stdout",
     "output_type": "stream",
     "text": [
      "TP: 4\n",
      "FP: 47\n",
      "FN: 27\n",
      "TN: 1732\n"
     ]
    },
    {
     "name": "stderr",
     "output_type": "stream",
     "text": [
      "C:\\Users\\George\\PycharmProjects\\GITFIF\\venv\\lib\\site-packages\\sklearn\\base.py:420: UserWarning: X does not have valid feature names, but IsolationForest was fitted with feature names\n",
      "  warnings.warn(\n"
     ]
    },
    {
     "name": "stdout",
     "output_type": "stream",
     "text": [
      "TP: 4\n",
      "FP: 64\n",
      "FN: 27\n",
      "TN: 1715\n"
     ]
    },
    {
     "name": "stderr",
     "output_type": "stream",
     "text": [
      "C:\\Users\\George\\PycharmProjects\\GITFIF\\venv\\lib\\site-packages\\sklearn\\base.py:420: UserWarning: X does not have valid feature names, but IsolationForest was fitted with feature names\n",
      "  warnings.warn(\n"
     ]
    },
    {
     "name": "stdout",
     "output_type": "stream",
     "text": [
      "TP: 5\n",
      "FP: 80\n",
      "FN: 26\n",
      "TN: 1699\n"
     ]
    },
    {
     "name": "stderr",
     "output_type": "stream",
     "text": [
      "C:\\Users\\George\\PycharmProjects\\GITFIF\\venv\\lib\\site-packages\\sklearn\\base.py:420: UserWarning: X does not have valid feature names, but IsolationForest was fitted with feature names\n",
      "  warnings.warn(\n"
     ]
    },
    {
     "name": "stdout",
     "output_type": "stream",
     "text": [
      "TP: 5\n",
      "FP: 97\n",
      "FN: 26\n",
      "TN: 1682\n"
     ]
    },
    {
     "name": "stderr",
     "output_type": "stream",
     "text": [
      "C:\\Users\\George\\PycharmProjects\\GITFIF\\venv\\lib\\site-packages\\sklearn\\base.py:420: UserWarning: X does not have valid feature names, but IsolationForest was fitted with feature names\n",
      "  warnings.warn(\n"
     ]
    },
    {
     "name": "stdout",
     "output_type": "stream",
     "text": [
      "TP: 6\n",
      "FP: 113\n",
      "FN: 25\n",
      "TN: 1666\n"
     ]
    },
    {
     "name": "stderr",
     "output_type": "stream",
     "text": [
      "C:\\Users\\George\\PycharmProjects\\GITFIF\\venv\\lib\\site-packages\\sklearn\\base.py:420: UserWarning: X does not have valid feature names, but IsolationForest was fitted with feature names\n",
      "  warnings.warn(\n"
     ]
    },
    {
     "name": "stdout",
     "output_type": "stream",
     "text": [
      "TP: 6\n",
      "FP: 130\n",
      "FN: 25\n",
      "TN: 1649\n"
     ]
    },
    {
     "name": "stderr",
     "output_type": "stream",
     "text": [
      "C:\\Users\\George\\PycharmProjects\\GITFIF\\venv\\lib\\site-packages\\sklearn\\base.py:420: UserWarning: X does not have valid feature names, but IsolationForest was fitted with feature names\n",
      "  warnings.warn(\n"
     ]
    },
    {
     "name": "stdout",
     "output_type": "stream",
     "text": [
      "TP: 6\n",
      "FP: 147\n",
      "FN: 25\n",
      "TN: 1632\n"
     ]
    },
    {
     "name": "stderr",
     "output_type": "stream",
     "text": [
      "C:\\Users\\George\\PycharmProjects\\GITFIF\\venv\\lib\\site-packages\\sklearn\\base.py:420: UserWarning: X does not have valid feature names, but IsolationForest was fitted with feature names\n",
      "  warnings.warn(\n"
     ]
    },
    {
     "name": "stdout",
     "output_type": "stream",
     "text": [
      "TP: 6\n",
      "FP: 164\n",
      "FN: 25\n",
      "TN: 1615\n"
     ]
    },
    {
     "name": "stderr",
     "output_type": "stream",
     "text": [
      "C:\\Users\\George\\PycharmProjects\\GITFIF\\venv\\lib\\site-packages\\sklearn\\base.py:420: UserWarning: X does not have valid feature names, but IsolationForest was fitted with feature names\n",
      "  warnings.warn(\n"
     ]
    },
    {
     "name": "stdout",
     "output_type": "stream",
     "text": [
      "TP: 9\n",
      "FP: 178\n",
      "FN: 22\n",
      "TN: 1601\n"
     ]
    },
    {
     "name": "stderr",
     "output_type": "stream",
     "text": [
      "C:\\Users\\George\\PycharmProjects\\GITFIF\\venv\\lib\\site-packages\\sklearn\\base.py:420: UserWarning: X does not have valid feature names, but IsolationForest was fitted with feature names\n",
      "  warnings.warn(\n"
     ]
    },
    {
     "name": "stdout",
     "output_type": "stream",
     "text": [
      "TP: 11\n",
      "FP: 193\n",
      "FN: 20\n",
      "TN: 1586\n"
     ]
    },
    {
     "name": "stderr",
     "output_type": "stream",
     "text": [
      "C:\\Users\\George\\PycharmProjects\\GITFIF\\venv\\lib\\site-packages\\sklearn\\base.py:420: UserWarning: X does not have valid feature names, but IsolationForest was fitted with feature names\n",
      "  warnings.warn(\n"
     ]
    },
    {
     "name": "stdout",
     "output_type": "stream",
     "text": [
      "TP: 20\n",
      "FP: 202\n",
      "FN: 11\n",
      "TN: 1577\n"
     ]
    },
    {
     "name": "stderr",
     "output_type": "stream",
     "text": [
      "C:\\Users\\George\\PycharmProjects\\GITFIF\\venv\\lib\\site-packages\\sklearn\\base.py:420: UserWarning: X does not have valid feature names, but IsolationForest was fitted with feature names\n",
      "  warnings.warn(\n"
     ]
    },
    {
     "name": "stdout",
     "output_type": "stream",
     "text": [
      "TP: 20\n",
      "FP: 219\n",
      "FN: 11\n",
      "TN: 1560\n"
     ]
    },
    {
     "name": "stderr",
     "output_type": "stream",
     "text": [
      "C:\\Users\\George\\PycharmProjects\\GITFIF\\venv\\lib\\site-packages\\sklearn\\base.py:420: UserWarning: X does not have valid feature names, but IsolationForest was fitted with feature names\n",
      "  warnings.warn(\n"
     ]
    },
    {
     "name": "stdout",
     "output_type": "stream",
     "text": [
      "TP: 20\n",
      "FP: 236\n",
      "FN: 11\n",
      "TN: 1543\n"
     ]
    },
    {
     "name": "stderr",
     "output_type": "stream",
     "text": [
      "C:\\Users\\George\\PycharmProjects\\GITFIF\\venv\\lib\\site-packages\\sklearn\\base.py:420: UserWarning: X does not have valid feature names, but IsolationForest was fitted with feature names\n",
      "  warnings.warn(\n"
     ]
    },
    {
     "name": "stdout",
     "output_type": "stream",
     "text": [
      "TP: 20\n",
      "FP: 253\n",
      "FN: 11\n",
      "TN: 1526\n"
     ]
    },
    {
     "name": "stderr",
     "output_type": "stream",
     "text": [
      "C:\\Users\\George\\PycharmProjects\\GITFIF\\venv\\lib\\site-packages\\sklearn\\base.py:420: UserWarning: X does not have valid feature names, but IsolationForest was fitted with feature names\n",
      "  warnings.warn(\n"
     ]
    },
    {
     "name": "stdout",
     "output_type": "stream",
     "text": [
      "TP: 21\n",
      "FP: 269\n",
      "FN: 10\n",
      "TN: 1510\n"
     ]
    },
    {
     "name": "stderr",
     "output_type": "stream",
     "text": [
      "C:\\Users\\George\\PycharmProjects\\GITFIF\\venv\\lib\\site-packages\\sklearn\\base.py:420: UserWarning: X does not have valid feature names, but IsolationForest was fitted with feature names\n",
      "  warnings.warn(\n"
     ]
    },
    {
     "name": "stdout",
     "output_type": "stream",
     "text": [
      "TP: 21\n",
      "FP: 286\n",
      "FN: 10\n",
      "TN: 1493\n"
     ]
    },
    {
     "name": "stderr",
     "output_type": "stream",
     "text": [
      "C:\\Users\\George\\PycharmProjects\\GITFIF\\venv\\lib\\site-packages\\sklearn\\base.py:420: UserWarning: X does not have valid feature names, but IsolationForest was fitted with feature names\n",
      "  warnings.warn(\n"
     ]
    },
    {
     "name": "stdout",
     "output_type": "stream",
     "text": [
      "TP: 21\n",
      "FP: 303\n",
      "FN: 10\n",
      "TN: 1476\n"
     ]
    },
    {
     "name": "stderr",
     "output_type": "stream",
     "text": [
      "C:\\Users\\George\\PycharmProjects\\GITFIF\\venv\\lib\\site-packages\\sklearn\\base.py:420: UserWarning: X does not have valid feature names, but IsolationForest was fitted with feature names\n",
      "  warnings.warn(\n"
     ]
    },
    {
     "name": "stdout",
     "output_type": "stream",
     "text": [
      "TP: 21\n",
      "FP: 320\n",
      "FN: 10\n",
      "TN: 1459\n"
     ]
    },
    {
     "name": "stderr",
     "output_type": "stream",
     "text": [
      "C:\\Users\\George\\PycharmProjects\\GITFIF\\venv\\lib\\site-packages\\sklearn\\base.py:420: UserWarning: X does not have valid feature names, but IsolationForest was fitted with feature names\n",
      "  warnings.warn(\n"
     ]
    },
    {
     "name": "stdout",
     "output_type": "stream",
     "text": [
      "TP: 23\n",
      "FP: 335\n",
      "FN: 8\n",
      "TN: 1444\n"
     ]
    },
    {
     "name": "stderr",
     "output_type": "stream",
     "text": [
      "C:\\Users\\George\\PycharmProjects\\GITFIF\\venv\\lib\\site-packages\\sklearn\\base.py:420: UserWarning: X does not have valid feature names, but IsolationForest was fitted with feature names\n",
      "  warnings.warn(\n"
     ]
    },
    {
     "name": "stdout",
     "output_type": "stream",
     "text": [
      "TP: 23\n",
      "FP: 352\n",
      "FN: 8\n",
      "TN: 1427\n"
     ]
    },
    {
     "name": "stderr",
     "output_type": "stream",
     "text": [
      "C:\\Users\\George\\PycharmProjects\\GITFIF\\venv\\lib\\site-packages\\sklearn\\base.py:420: UserWarning: X does not have valid feature names, but IsolationForest was fitted with feature names\n",
      "  warnings.warn(\n"
     ]
    },
    {
     "name": "stdout",
     "output_type": "stream",
     "text": [
      "TP: 23\n",
      "FP: 369\n",
      "FN: 8\n",
      "TN: 1410\n"
     ]
    },
    {
     "name": "stderr",
     "output_type": "stream",
     "text": [
      "C:\\Users\\George\\PycharmProjects\\GITFIF\\venv\\lib\\site-packages\\sklearn\\base.py:420: UserWarning: X does not have valid feature names, but IsolationForest was fitted with feature names\n",
      "  warnings.warn(\n"
     ]
    },
    {
     "name": "stdout",
     "output_type": "stream",
     "text": [
      "TP: 23\n",
      "FP: 386\n",
      "FN: 8\n",
      "TN: 1393\n"
     ]
    },
    {
     "name": "stderr",
     "output_type": "stream",
     "text": [
      "C:\\Users\\George\\PycharmProjects\\GITFIF\\venv\\lib\\site-packages\\sklearn\\base.py:420: UserWarning: X does not have valid feature names, but IsolationForest was fitted with feature names\n",
      "  warnings.warn(\n"
     ]
    },
    {
     "name": "stdout",
     "output_type": "stream",
     "text": [
      "TP: 23\n",
      "FP: 404\n",
      "FN: 8\n",
      "TN: 1375\n"
     ]
    },
    {
     "name": "stderr",
     "output_type": "stream",
     "text": [
      "C:\\Users\\George\\PycharmProjects\\GITFIF\\venv\\lib\\site-packages\\sklearn\\base.py:420: UserWarning: X does not have valid feature names, but IsolationForest was fitted with feature names\n",
      "  warnings.warn(\n"
     ]
    },
    {
     "name": "stdout",
     "output_type": "stream",
     "text": [
      "TP: 23\n",
      "FP: 421\n",
      "FN: 8\n",
      "TN: 1358\n"
     ]
    },
    {
     "name": "stderr",
     "output_type": "stream",
     "text": [
      "C:\\Users\\George\\PycharmProjects\\GITFIF\\venv\\lib\\site-packages\\sklearn\\base.py:420: UserWarning: X does not have valid feature names, but IsolationForest was fitted with feature names\n",
      "  warnings.warn(\n"
     ]
    },
    {
     "name": "stdout",
     "output_type": "stream",
     "text": [
      "TP: 23\n",
      "FP: 438\n",
      "FN: 8\n",
      "TN: 1341\n"
     ]
    },
    {
     "name": "stderr",
     "output_type": "stream",
     "text": [
      "C:\\Users\\George\\PycharmProjects\\GITFIF\\venv\\lib\\site-packages\\sklearn\\base.py:420: UserWarning: X does not have valid feature names, but IsolationForest was fitted with feature names\n",
      "  warnings.warn(\n"
     ]
    },
    {
     "name": "stdout",
     "output_type": "stream",
     "text": [
      "TP: 23\n",
      "FP: 455\n",
      "FN: 8\n",
      "TN: 1324\n"
     ]
    },
    {
     "name": "stderr",
     "output_type": "stream",
     "text": [
      "C:\\Users\\George\\PycharmProjects\\GITFIF\\venv\\lib\\site-packages\\sklearn\\base.py:420: UserWarning: X does not have valid feature names, but IsolationForest was fitted with feature names\n",
      "  warnings.warn(\n"
     ]
    },
    {
     "name": "stdout",
     "output_type": "stream",
     "text": [
      "TP: 23\n",
      "FP: 472\n",
      "FN: 8\n",
      "TN: 1307\n"
     ]
    },
    {
     "name": "stderr",
     "output_type": "stream",
     "text": [
      "C:\\Users\\George\\PycharmProjects\\GITFIF\\venv\\lib\\site-packages\\sklearn\\base.py:420: UserWarning: X does not have valid feature names, but IsolationForest was fitted with feature names\n",
      "  warnings.warn(\n"
     ]
    },
    {
     "name": "stdout",
     "output_type": "stream",
     "text": [
      "TP: 23\n",
      "FP: 489\n",
      "FN: 8\n",
      "TN: 1290\n"
     ]
    },
    {
     "name": "stderr",
     "output_type": "stream",
     "text": [
      "C:\\Users\\George\\PycharmProjects\\GITFIF\\venv\\lib\\site-packages\\sklearn\\base.py:420: UserWarning: X does not have valid feature names, but IsolationForest was fitted with feature names\n",
      "  warnings.warn(\n"
     ]
    },
    {
     "name": "stdout",
     "output_type": "stream",
     "text": [
      "TP: 26\n",
      "FP: 503\n",
      "FN: 5\n",
      "TN: 1276\n"
     ]
    },
    {
     "name": "stderr",
     "output_type": "stream",
     "text": [
      "C:\\Users\\George\\PycharmProjects\\GITFIF\\venv\\lib\\site-packages\\sklearn\\base.py:420: UserWarning: X does not have valid feature names, but IsolationForest was fitted with feature names\n",
      "  warnings.warn(\n"
     ]
    },
    {
     "name": "stdout",
     "output_type": "stream",
     "text": [
      "TP: 28\n",
      "FP: 518\n",
      "FN: 3\n",
      "TN: 1261\n"
     ]
    },
    {
     "name": "stderr",
     "output_type": "stream",
     "text": [
      "C:\\Users\\George\\PycharmProjects\\GITFIF\\venv\\lib\\site-packages\\sklearn\\base.py:420: UserWarning: X does not have valid feature names, but IsolationForest was fitted with feature names\n",
      "  warnings.warn(\n"
     ]
    },
    {
     "name": "stdout",
     "output_type": "stream",
     "text": [
      "TP: 28\n",
      "FP: 535\n",
      "FN: 3\n",
      "TN: 1244\n"
     ]
    },
    {
     "name": "stderr",
     "output_type": "stream",
     "text": [
      "C:\\Users\\George\\PycharmProjects\\GITFIF\\venv\\lib\\site-packages\\sklearn\\base.py:420: UserWarning: X does not have valid feature names, but IsolationForest was fitted with feature names\n",
      "  warnings.warn(\n"
     ]
    },
    {
     "name": "stdout",
     "output_type": "stream",
     "text": [
      "TP: 28\n",
      "FP: 552\n",
      "FN: 3\n",
      "TN: 1227\n"
     ]
    },
    {
     "name": "stderr",
     "output_type": "stream",
     "text": [
      "C:\\Users\\George\\PycharmProjects\\GITFIF\\venv\\lib\\site-packages\\sklearn\\base.py:420: UserWarning: X does not have valid feature names, but IsolationForest was fitted with feature names\n",
      "  warnings.warn(\n"
     ]
    },
    {
     "name": "stdout",
     "output_type": "stream",
     "text": [
      "TP: 28\n",
      "FP: 569\n",
      "FN: 3\n",
      "TN: 1210\n"
     ]
    },
    {
     "name": "stderr",
     "output_type": "stream",
     "text": [
      "C:\\Users\\George\\PycharmProjects\\GITFIF\\venv\\lib\\site-packages\\sklearn\\base.py:420: UserWarning: X does not have valid feature names, but IsolationForest was fitted with feature names\n",
      "  warnings.warn(\n"
     ]
    },
    {
     "name": "stdout",
     "output_type": "stream",
     "text": [
      "TP: 28\n",
      "FP: 586\n",
      "FN: 3\n",
      "TN: 1193\n"
     ]
    },
    {
     "name": "stderr",
     "output_type": "stream",
     "text": [
      "C:\\Users\\George\\PycharmProjects\\GITFIF\\venv\\lib\\site-packages\\sklearn\\base.py:420: UserWarning: X does not have valid feature names, but IsolationForest was fitted with feature names\n",
      "  warnings.warn(\n"
     ]
    },
    {
     "name": "stdout",
     "output_type": "stream",
     "text": [
      "TP: 28\n",
      "FP: 603\n",
      "FN: 3\n",
      "TN: 1176\n"
     ]
    },
    {
     "name": "stderr",
     "output_type": "stream",
     "text": [
      "C:\\Users\\George\\PycharmProjects\\GITFIF\\venv\\lib\\site-packages\\sklearn\\base.py:420: UserWarning: X does not have valid feature names, but IsolationForest was fitted with feature names\n",
      "  warnings.warn(\n"
     ]
    },
    {
     "name": "stdout",
     "output_type": "stream",
     "text": [
      "TP: 28\n",
      "FP: 621\n",
      "FN: 3\n",
      "TN: 1158\n"
     ]
    },
    {
     "name": "stderr",
     "output_type": "stream",
     "text": [
      "C:\\Users\\George\\PycharmProjects\\GITFIF\\venv\\lib\\site-packages\\sklearn\\base.py:420: UserWarning: X does not have valid feature names, but IsolationForest was fitted with feature names\n",
      "  warnings.warn(\n"
     ]
    },
    {
     "name": "stdout",
     "output_type": "stream",
     "text": [
      "TP: 28\n",
      "FP: 638\n",
      "FN: 3\n",
      "TN: 1141\n"
     ]
    },
    {
     "name": "stderr",
     "output_type": "stream",
     "text": [
      "C:\\Users\\George\\PycharmProjects\\GITFIF\\venv\\lib\\site-packages\\sklearn\\base.py:420: UserWarning: X does not have valid feature names, but IsolationForest was fitted with feature names\n",
      "  warnings.warn(\n"
     ]
    },
    {
     "name": "stdout",
     "output_type": "stream",
     "text": [
      "TP: 28\n",
      "FP: 655\n",
      "FN: 3\n",
      "TN: 1124\n"
     ]
    },
    {
     "name": "stderr",
     "output_type": "stream",
     "text": [
      "C:\\Users\\George\\PycharmProjects\\GITFIF\\venv\\lib\\site-packages\\sklearn\\base.py:420: UserWarning: X does not have valid feature names, but IsolationForest was fitted with feature names\n",
      "  warnings.warn(\n"
     ]
    },
    {
     "name": "stdout",
     "output_type": "stream",
     "text": [
      "TP: 28\n",
      "FP: 672\n",
      "FN: 3\n",
      "TN: 1107\n"
     ]
    },
    {
     "name": "stderr",
     "output_type": "stream",
     "text": [
      "C:\\Users\\George\\PycharmProjects\\GITFIF\\venv\\lib\\site-packages\\sklearn\\base.py:420: UserWarning: X does not have valid feature names, but IsolationForest was fitted with feature names\n",
      "  warnings.warn(\n"
     ]
    },
    {
     "name": "stdout",
     "output_type": "stream",
     "text": [
      "TP: 28\n",
      "FP: 689\n",
      "FN: 3\n",
      "TN: 1090\n"
     ]
    },
    {
     "name": "stderr",
     "output_type": "stream",
     "text": [
      "C:\\Users\\George\\PycharmProjects\\GITFIF\\venv\\lib\\site-packages\\sklearn\\base.py:420: UserWarning: X does not have valid feature names, but IsolationForest was fitted with feature names\n",
      "  warnings.warn(\n"
     ]
    },
    {
     "name": "stdout",
     "output_type": "stream",
     "text": [
      "TP: 28\n",
      "FP: 706\n",
      "FN: 3\n",
      "TN: 1073\n"
     ]
    },
    {
     "name": "stderr",
     "output_type": "stream",
     "text": [
      "C:\\Users\\George\\PycharmProjects\\GITFIF\\venv\\lib\\site-packages\\sklearn\\base.py:420: UserWarning: X does not have valid feature names, but IsolationForest was fitted with feature names\n",
      "  warnings.warn(\n"
     ]
    },
    {
     "name": "stdout",
     "output_type": "stream",
     "text": [
      "TP: 28\n",
      "FP: 723\n",
      "FN: 3\n",
      "TN: 1056\n"
     ]
    },
    {
     "name": "stderr",
     "output_type": "stream",
     "text": [
      "C:\\Users\\George\\PycharmProjects\\GITFIF\\venv\\lib\\site-packages\\sklearn\\base.py:420: UserWarning: X does not have valid feature names, but IsolationForest was fitted with feature names\n",
      "  warnings.warn(\n"
     ]
    },
    {
     "name": "stdout",
     "output_type": "stream",
     "text": [
      "TP: 28\n",
      "FP: 740\n",
      "FN: 3\n",
      "TN: 1039\n"
     ]
    },
    {
     "name": "stderr",
     "output_type": "stream",
     "text": [
      "C:\\Users\\George\\PycharmProjects\\GITFIF\\venv\\lib\\site-packages\\sklearn\\base.py:420: UserWarning: X does not have valid feature names, but IsolationForest was fitted with feature names\n",
      "  warnings.warn(\n"
     ]
    },
    {
     "name": "stdout",
     "output_type": "stream",
     "text": [
      "TP: 28\n",
      "FP: 757\n",
      "FN: 3\n",
      "TN: 1022\n"
     ]
    },
    {
     "name": "stderr",
     "output_type": "stream",
     "text": [
      "C:\\Users\\George\\PycharmProjects\\GITFIF\\venv\\lib\\site-packages\\sklearn\\base.py:420: UserWarning: X does not have valid feature names, but IsolationForest was fitted with feature names\n",
      "  warnings.warn(\n"
     ]
    },
    {
     "name": "stdout",
     "output_type": "stream",
     "text": [
      "TP: 29\n",
      "FP: 773\n",
      "FN: 2\n",
      "TN: 1006\n"
     ]
    },
    {
     "name": "stderr",
     "output_type": "stream",
     "text": [
      "C:\\Users\\George\\PycharmProjects\\GITFIF\\venv\\lib\\site-packages\\sklearn\\base.py:420: UserWarning: X does not have valid feature names, but IsolationForest was fitted with feature names\n",
      "  warnings.warn(\n"
     ]
    },
    {
     "name": "stdout",
     "output_type": "stream",
     "text": [
      "TP: 29\n",
      "FP: 790\n",
      "FN: 2\n",
      "TN: 989\n"
     ]
    },
    {
     "name": "stderr",
     "output_type": "stream",
     "text": [
      "C:\\Users\\George\\PycharmProjects\\GITFIF\\venv\\lib\\site-packages\\sklearn\\base.py:420: UserWarning: X does not have valid feature names, but IsolationForest was fitted with feature names\n",
      "  warnings.warn(\n"
     ]
    },
    {
     "name": "stdout",
     "output_type": "stream",
     "text": [
      "TP: 30\n",
      "FP: 806\n",
      "FN: 1\n",
      "TN: 973\n"
     ]
    },
    {
     "name": "stderr",
     "output_type": "stream",
     "text": [
      "C:\\Users\\George\\PycharmProjects\\GITFIF\\venv\\lib\\site-packages\\sklearn\\base.py:420: UserWarning: X does not have valid feature names, but IsolationForest was fitted with feature names\n",
      "  warnings.warn(\n"
     ]
    },
    {
     "name": "stdout",
     "output_type": "stream",
     "text": [
      "TP: 30\n",
      "FP: 824\n",
      "FN: 1\n",
      "TN: 955\n"
     ]
    },
    {
     "name": "stderr",
     "output_type": "stream",
     "text": [
      "C:\\Users\\George\\PycharmProjects\\GITFIF\\venv\\lib\\site-packages\\sklearn\\base.py:420: UserWarning: X does not have valid feature names, but IsolationForest was fitted with feature names\n",
      "  warnings.warn(\n"
     ]
    },
    {
     "name": "stdout",
     "output_type": "stream",
     "text": [
      "TP: 30\n",
      "FP: 841\n",
      "FN: 1\n",
      "TN: 938\n"
     ]
    },
    {
     "name": "stderr",
     "output_type": "stream",
     "text": [
      "C:\\Users\\George\\PycharmProjects\\GITFIF\\venv\\lib\\site-packages\\sklearn\\base.py:420: UserWarning: X does not have valid feature names, but IsolationForest was fitted with feature names\n",
      "  warnings.warn(\n"
     ]
    },
    {
     "name": "stdout",
     "output_type": "stream",
     "text": [
      "TP: 30\n",
      "FP: 858\n",
      "FN: 1\n",
      "TN: 921\n"
     ]
    },
    {
     "name": "stderr",
     "output_type": "stream",
     "text": [
      "C:\\Users\\George\\PycharmProjects\\GITFIF\\venv\\lib\\site-packages\\sklearn\\base.py:420: UserWarning: X does not have valid feature names, but IsolationForest was fitted with feature names\n",
      "  warnings.warn(\n"
     ]
    },
    {
     "name": "stdout",
     "output_type": "stream",
     "text": [
      "TP: 30\n",
      "FP: 875\n",
      "FN: 1\n",
      "TN: 904\n"
     ]
    },
    {
     "name": "stderr",
     "output_type": "stream",
     "text": [
      "C:\\Users\\George\\PycharmProjects\\GITFIF\\venv\\lib\\site-packages\\sklearn\\base.py:420: UserWarning: X does not have valid feature names, but IsolationForest was fitted with feature names\n",
      "  warnings.warn(\n"
     ]
    },
    {
     "name": "stdout",
     "output_type": "stream",
     "text": [
      "TP: 30\n",
      "FP: 892\n",
      "FN: 1\n",
      "TN: 887\n"
     ]
    },
    {
     "name": "stderr",
     "output_type": "stream",
     "text": [
      "C:\\Users\\George\\PycharmProjects\\GITFIF\\venv\\lib\\site-packages\\sklearn\\base.py:420: UserWarning: X does not have valid feature names, but IsolationForest was fitted with feature names\n",
      "  warnings.warn(\n"
     ]
    },
    {
     "name": "stdout",
     "output_type": "stream",
     "text": [
      "TP: 30\n",
      "FP: 909\n",
      "FN: 1\n",
      "TN: 870\n"
     ]
    },
    {
     "name": "stderr",
     "output_type": "stream",
     "text": [
      "C:\\Users\\George\\PycharmProjects\\GITFIF\\venv\\lib\\site-packages\\sklearn\\base.py:420: UserWarning: X does not have valid feature names, but IsolationForest was fitted with feature names\n",
      "  warnings.warn(\n"
     ]
    },
    {
     "name": "stdout",
     "output_type": "stream",
     "text": [
      "TP: 30\n",
      "FP: 926\n",
      "FN: 1\n",
      "TN: 853\n"
     ]
    },
    {
     "name": "stderr",
     "output_type": "stream",
     "text": [
      "C:\\Users\\George\\PycharmProjects\\GITFIF\\venv\\lib\\site-packages\\sklearn\\base.py:420: UserWarning: X does not have valid feature names, but IsolationForest was fitted with feature names\n",
      "  warnings.warn(\n"
     ]
    },
    {
     "name": "stdout",
     "output_type": "stream",
     "text": [
      "TP: 30\n",
      "FP: 943\n",
      "FN: 1\n",
      "TN: 836\n"
     ]
    },
    {
     "name": "stderr",
     "output_type": "stream",
     "text": [
      "C:\\Users\\George\\PycharmProjects\\GITFIF\\venv\\lib\\site-packages\\sklearn\\base.py:420: UserWarning: X does not have valid feature names, but IsolationForest was fitted with feature names\n",
      "  warnings.warn(\n"
     ]
    },
    {
     "name": "stdout",
     "output_type": "stream",
     "text": [
      "TP: 30\n",
      "FP: 960\n",
      "FN: 1\n",
      "TN: 819\n"
     ]
    },
    {
     "name": "stderr",
     "output_type": "stream",
     "text": [
      "C:\\Users\\George\\PycharmProjects\\GITFIF\\venv\\lib\\site-packages\\sklearn\\base.py:420: UserWarning: X does not have valid feature names, but IsolationForest was fitted with feature names\n",
      "  warnings.warn(\n"
     ]
    },
    {
     "name": "stdout",
     "output_type": "stream",
     "text": [
      "TP: 30\n",
      "FP: 977\n",
      "FN: 1\n",
      "TN: 802\n"
     ]
    },
    {
     "name": "stderr",
     "output_type": "stream",
     "text": [
      "C:\\Users\\George\\PycharmProjects\\GITFIF\\venv\\lib\\site-packages\\sklearn\\base.py:420: UserWarning: X does not have valid feature names, but IsolationForest was fitted with feature names\n",
      "  warnings.warn(\n"
     ]
    },
    {
     "name": "stdout",
     "output_type": "stream",
     "text": [
      "TP: 30\n",
      "FP: 994\n",
      "FN: 1\n",
      "TN: 785\n"
     ]
    },
    {
     "name": "stderr",
     "output_type": "stream",
     "text": [
      "C:\\Users\\George\\PycharmProjects\\GITFIF\\venv\\lib\\site-packages\\sklearn\\base.py:420: UserWarning: X does not have valid feature names, but IsolationForest was fitted with feature names\n",
      "  warnings.warn(\n"
     ]
    },
    {
     "name": "stdout",
     "output_type": "stream",
     "text": [
      "TP: 30\n",
      "FP: 1011\n",
      "FN: 1\n",
      "TN: 768\n"
     ]
    },
    {
     "name": "stderr",
     "output_type": "stream",
     "text": [
      "C:\\Users\\George\\PycharmProjects\\GITFIF\\venv\\lib\\site-packages\\sklearn\\base.py:420: UserWarning: X does not have valid feature names, but IsolationForest was fitted with feature names\n",
      "  warnings.warn(\n"
     ]
    },
    {
     "name": "stdout",
     "output_type": "stream",
     "text": [
      "TP: 30\n",
      "FP: 1028\n",
      "FN: 1\n",
      "TN: 751\n"
     ]
    },
    {
     "name": "stderr",
     "output_type": "stream",
     "text": [
      "C:\\Users\\George\\PycharmProjects\\GITFIF\\venv\\lib\\site-packages\\sklearn\\base.py:420: UserWarning: X does not have valid feature names, but IsolationForest was fitted with feature names\n",
      "  warnings.warn(\n"
     ]
    },
    {
     "name": "stdout",
     "output_type": "stream",
     "text": [
      "TP: 30\n",
      "FP: 1046\n",
      "FN: 1\n",
      "TN: 733\n"
     ]
    },
    {
     "name": "stderr",
     "output_type": "stream",
     "text": [
      "C:\\Users\\George\\PycharmProjects\\GITFIF\\venv\\lib\\site-packages\\sklearn\\base.py:420: UserWarning: X does not have valid feature names, but IsolationForest was fitted with feature names\n",
      "  warnings.warn(\n"
     ]
    },
    {
     "name": "stdout",
     "output_type": "stream",
     "text": [
      "TP: 30\n",
      "FP: 1063\n",
      "FN: 1\n",
      "TN: 716\n"
     ]
    },
    {
     "name": "stderr",
     "output_type": "stream",
     "text": [
      "C:\\Users\\George\\PycharmProjects\\GITFIF\\venv\\lib\\site-packages\\sklearn\\base.py:420: UserWarning: X does not have valid feature names, but IsolationForest was fitted with feature names\n",
      "  warnings.warn(\n"
     ]
    },
    {
     "name": "stdout",
     "output_type": "stream",
     "text": [
      "TP: 30\n",
      "FP: 1080\n",
      "FN: 1\n",
      "TN: 699\n"
     ]
    },
    {
     "name": "stderr",
     "output_type": "stream",
     "text": [
      "C:\\Users\\George\\PycharmProjects\\GITFIF\\venv\\lib\\site-packages\\sklearn\\base.py:420: UserWarning: X does not have valid feature names, but IsolationForest was fitted with feature names\n",
      "  warnings.warn(\n"
     ]
    },
    {
     "name": "stdout",
     "output_type": "stream",
     "text": [
      "TP: 30\n",
      "FP: 1097\n",
      "FN: 1\n",
      "TN: 682\n"
     ]
    },
    {
     "name": "stderr",
     "output_type": "stream",
     "text": [
      "C:\\Users\\George\\PycharmProjects\\GITFIF\\venv\\lib\\site-packages\\sklearn\\base.py:420: UserWarning: X does not have valid feature names, but IsolationForest was fitted with feature names\n",
      "  warnings.warn(\n"
     ]
    },
    {
     "name": "stdout",
     "output_type": "stream",
     "text": [
      "TP: 30\n",
      "FP: 1114\n",
      "FN: 1\n",
      "TN: 665\n"
     ]
    },
    {
     "name": "stderr",
     "output_type": "stream",
     "text": [
      "C:\\Users\\George\\PycharmProjects\\GITFIF\\venv\\lib\\site-packages\\sklearn\\base.py:420: UserWarning: X does not have valid feature names, but IsolationForest was fitted with feature names\n",
      "  warnings.warn(\n"
     ]
    },
    {
     "name": "stdout",
     "output_type": "stream",
     "text": [
      "TP: 30\n",
      "FP: 1131\n",
      "FN: 1\n",
      "TN: 648\n"
     ]
    },
    {
     "name": "stderr",
     "output_type": "stream",
     "text": [
      "C:\\Users\\George\\PycharmProjects\\GITFIF\\venv\\lib\\site-packages\\sklearn\\base.py:420: UserWarning: X does not have valid feature names, but IsolationForest was fitted with feature names\n",
      "  warnings.warn(\n"
     ]
    },
    {
     "name": "stdout",
     "output_type": "stream",
     "text": [
      "TP: 30\n",
      "FP: 1148\n",
      "FN: 1\n",
      "TN: 631\n"
     ]
    },
    {
     "name": "stderr",
     "output_type": "stream",
     "text": [
      "C:\\Users\\George\\PycharmProjects\\GITFIF\\venv\\lib\\site-packages\\sklearn\\base.py:420: UserWarning: X does not have valid feature names, but IsolationForest was fitted with feature names\n",
      "  warnings.warn(\n"
     ]
    },
    {
     "name": "stdout",
     "output_type": "stream",
     "text": [
      "TP: 30\n",
      "FP: 1165\n",
      "FN: 1\n",
      "TN: 614\n"
     ]
    },
    {
     "name": "stderr",
     "output_type": "stream",
     "text": [
      "C:\\Users\\George\\PycharmProjects\\GITFIF\\venv\\lib\\site-packages\\sklearn\\base.py:420: UserWarning: X does not have valid feature names, but IsolationForest was fitted with feature names\n",
      "  warnings.warn(\n"
     ]
    },
    {
     "name": "stdout",
     "output_type": "stream",
     "text": [
      "TP: 30\n",
      "FP: 1182\n",
      "FN: 1\n",
      "TN: 597\n"
     ]
    },
    {
     "name": "stderr",
     "output_type": "stream",
     "text": [
      "C:\\Users\\George\\PycharmProjects\\GITFIF\\venv\\lib\\site-packages\\sklearn\\base.py:420: UserWarning: X does not have valid feature names, but IsolationForest was fitted with feature names\n",
      "  warnings.warn(\n"
     ]
    },
    {
     "name": "stdout",
     "output_type": "stream",
     "text": [
      "TP: 30\n",
      "FP: 1199\n",
      "FN: 1\n",
      "TN: 580\n"
     ]
    },
    {
     "name": "stderr",
     "output_type": "stream",
     "text": [
      "C:\\Users\\George\\PycharmProjects\\GITFIF\\venv\\lib\\site-packages\\sklearn\\base.py:420: UserWarning: X does not have valid feature names, but IsolationForest was fitted with feature names\n",
      "  warnings.warn(\n"
     ]
    },
    {
     "name": "stdout",
     "output_type": "stream",
     "text": [
      "TP: 30\n",
      "FP: 1216\n",
      "FN: 1\n",
      "TN: 563\n"
     ]
    },
    {
     "name": "stderr",
     "output_type": "stream",
     "text": [
      "C:\\Users\\George\\PycharmProjects\\GITFIF\\venv\\lib\\site-packages\\sklearn\\base.py:420: UserWarning: X does not have valid feature names, but IsolationForest was fitted with feature names\n",
      "  warnings.warn(\n"
     ]
    },
    {
     "name": "stdout",
     "output_type": "stream",
     "text": [
      "TP: 30\n",
      "FP: 1233\n",
      "FN: 1\n",
      "TN: 546\n"
     ]
    },
    {
     "name": "stderr",
     "output_type": "stream",
     "text": [
      "C:\\Users\\George\\PycharmProjects\\GITFIF\\venv\\lib\\site-packages\\sklearn\\base.py:420: UserWarning: X does not have valid feature names, but IsolationForest was fitted with feature names\n",
      "  warnings.warn(\n"
     ]
    },
    {
     "name": "stdout",
     "output_type": "stream",
     "text": [
      "TP: 30\n",
      "FP: 1251\n",
      "FN: 1\n",
      "TN: 528\n"
     ]
    },
    {
     "name": "stderr",
     "output_type": "stream",
     "text": [
      "C:\\Users\\George\\PycharmProjects\\GITFIF\\venv\\lib\\site-packages\\sklearn\\base.py:420: UserWarning: X does not have valid feature names, but IsolationForest was fitted with feature names\n",
      "  warnings.warn(\n"
     ]
    },
    {
     "name": "stdout",
     "output_type": "stream",
     "text": [
      "TP: 30\n",
      "FP: 1268\n",
      "FN: 1\n",
      "TN: 511\n"
     ]
    },
    {
     "name": "stderr",
     "output_type": "stream",
     "text": [
      "C:\\Users\\George\\PycharmProjects\\GITFIF\\venv\\lib\\site-packages\\sklearn\\base.py:420: UserWarning: X does not have valid feature names, but IsolationForest was fitted with feature names\n",
      "  warnings.warn(\n"
     ]
    },
    {
     "name": "stdout",
     "output_type": "stream",
     "text": [
      "TP: 30\n",
      "FP: 1285\n",
      "FN: 1\n",
      "TN: 494\n"
     ]
    },
    {
     "name": "stderr",
     "output_type": "stream",
     "text": [
      "C:\\Users\\George\\PycharmProjects\\GITFIF\\venv\\lib\\site-packages\\sklearn\\base.py:420: UserWarning: X does not have valid feature names, but IsolationForest was fitted with feature names\n",
      "  warnings.warn(\n"
     ]
    },
    {
     "name": "stdout",
     "output_type": "stream",
     "text": [
      "TP: 30\n",
      "FP: 1302\n",
      "FN: 1\n",
      "TN: 477\n"
     ]
    },
    {
     "name": "stderr",
     "output_type": "stream",
     "text": [
      "C:\\Users\\George\\PycharmProjects\\GITFIF\\venv\\lib\\site-packages\\sklearn\\base.py:420: UserWarning: X does not have valid feature names, but IsolationForest was fitted with feature names\n",
      "  warnings.warn(\n"
     ]
    },
    {
     "name": "stdout",
     "output_type": "stream",
     "text": [
      "TP: 30\n",
      "FP: 1319\n",
      "FN: 1\n",
      "TN: 460\n"
     ]
    },
    {
     "name": "stderr",
     "output_type": "stream",
     "text": [
      "C:\\Users\\George\\PycharmProjects\\GITFIF\\venv\\lib\\site-packages\\sklearn\\base.py:420: UserWarning: X does not have valid feature names, but IsolationForest was fitted with feature names\n",
      "  warnings.warn(\n"
     ]
    },
    {
     "name": "stdout",
     "output_type": "stream",
     "text": [
      "TP: 30\n",
      "FP: 1336\n",
      "FN: 1\n",
      "TN: 443\n"
     ]
    },
    {
     "name": "stderr",
     "output_type": "stream",
     "text": [
      "C:\\Users\\George\\PycharmProjects\\GITFIF\\venv\\lib\\site-packages\\sklearn\\base.py:420: UserWarning: X does not have valid feature names, but IsolationForest was fitted with feature names\n",
      "  warnings.warn(\n"
     ]
    },
    {
     "name": "stdout",
     "output_type": "stream",
     "text": [
      "TP: 30\n",
      "FP: 1353\n",
      "FN: 1\n",
      "TN: 426\n"
     ]
    },
    {
     "name": "stderr",
     "output_type": "stream",
     "text": [
      "C:\\Users\\George\\PycharmProjects\\GITFIF\\venv\\lib\\site-packages\\sklearn\\base.py:420: UserWarning: X does not have valid feature names, but IsolationForest was fitted with feature names\n",
      "  warnings.warn(\n"
     ]
    },
    {
     "name": "stdout",
     "output_type": "stream",
     "text": [
      "TP: 30\n",
      "FP: 1370\n",
      "FN: 1\n",
      "TN: 409\n"
     ]
    },
    {
     "name": "stderr",
     "output_type": "stream",
     "text": [
      "C:\\Users\\George\\PycharmProjects\\GITFIF\\venv\\lib\\site-packages\\sklearn\\base.py:420: UserWarning: X does not have valid feature names, but IsolationForest was fitted with feature names\n",
      "  warnings.warn(\n"
     ]
    },
    {
     "name": "stdout",
     "output_type": "stream",
     "text": [
      "TP: 30\n",
      "FP: 1387\n",
      "FN: 1\n",
      "TN: 392\n"
     ]
    },
    {
     "name": "stderr",
     "output_type": "stream",
     "text": [
      "C:\\Users\\George\\PycharmProjects\\GITFIF\\venv\\lib\\site-packages\\sklearn\\base.py:420: UserWarning: X does not have valid feature names, but IsolationForest was fitted with feature names\n",
      "  warnings.warn(\n"
     ]
    },
    {
     "name": "stdout",
     "output_type": "stream",
     "text": [
      "TP: 30\n",
      "FP: 1404\n",
      "FN: 1\n",
      "TN: 375\n"
     ]
    },
    {
     "name": "stderr",
     "output_type": "stream",
     "text": [
      "C:\\Users\\George\\PycharmProjects\\GITFIF\\venv\\lib\\site-packages\\sklearn\\base.py:420: UserWarning: X does not have valid feature names, but IsolationForest was fitted with feature names\n",
      "  warnings.warn(\n"
     ]
    },
    {
     "name": "stdout",
     "output_type": "stream",
     "text": [
      "TP: 30\n",
      "FP: 1421\n",
      "FN: 1\n",
      "TN: 358\n"
     ]
    },
    {
     "name": "stderr",
     "output_type": "stream",
     "text": [
      "C:\\Users\\George\\PycharmProjects\\GITFIF\\venv\\lib\\site-packages\\sklearn\\base.py:420: UserWarning: X does not have valid feature names, but IsolationForest was fitted with feature names\n",
      "  warnings.warn(\n"
     ]
    },
    {
     "name": "stdout",
     "output_type": "stream",
     "text": [
      "TP: 30\n",
      "FP: 1438\n",
      "FN: 1\n",
      "TN: 341\n"
     ]
    },
    {
     "name": "stderr",
     "output_type": "stream",
     "text": [
      "C:\\Users\\George\\PycharmProjects\\GITFIF\\venv\\lib\\site-packages\\sklearn\\base.py:420: UserWarning: X does not have valid feature names, but IsolationForest was fitted with feature names\n",
      "  warnings.warn(\n"
     ]
    },
    {
     "name": "stdout",
     "output_type": "stream",
     "text": [
      "TP: 30\n",
      "FP: 1455\n",
      "FN: 1\n",
      "TN: 324\n"
     ]
    },
    {
     "name": "stderr",
     "output_type": "stream",
     "text": [
      "C:\\Users\\George\\PycharmProjects\\GITFIF\\venv\\lib\\site-packages\\sklearn\\base.py:420: UserWarning: X does not have valid feature names, but IsolationForest was fitted with feature names\n",
      "  warnings.warn(\n"
     ]
    },
    {
     "name": "stdout",
     "output_type": "stream",
     "text": [
      "TP: 30\n",
      "FP: 1473\n",
      "FN: 1\n",
      "TN: 306\n"
     ]
    },
    {
     "name": "stderr",
     "output_type": "stream",
     "text": [
      "C:\\Users\\George\\PycharmProjects\\GITFIF\\venv\\lib\\site-packages\\sklearn\\base.py:420: UserWarning: X does not have valid feature names, but IsolationForest was fitted with feature names\n",
      "  warnings.warn(\n"
     ]
    },
    {
     "name": "stdout",
     "output_type": "stream",
     "text": [
      "TP: 30\n",
      "FP: 1490\n",
      "FN: 1\n",
      "TN: 289\n"
     ]
    },
    {
     "name": "stderr",
     "output_type": "stream",
     "text": [
      "C:\\Users\\George\\PycharmProjects\\GITFIF\\venv\\lib\\site-packages\\sklearn\\base.py:420: UserWarning: X does not have valid feature names, but IsolationForest was fitted with feature names\n",
      "  warnings.warn(\n"
     ]
    },
    {
     "name": "stdout",
     "output_type": "stream",
     "text": [
      "TP: 30\n",
      "FP: 1505\n",
      "FN: 1\n",
      "TN: 274\n"
     ]
    },
    {
     "name": "stderr",
     "output_type": "stream",
     "text": [
      "C:\\Users\\George\\PycharmProjects\\GITFIF\\venv\\lib\\site-packages\\sklearn\\base.py:420: UserWarning: X does not have valid feature names, but IsolationForest was fitted with feature names\n",
      "  warnings.warn(\n"
     ]
    },
    {
     "name": "stdout",
     "output_type": "stream",
     "text": [
      "TP: 30\n",
      "FP: 1521\n",
      "FN: 1\n",
      "TN: 258\n"
     ]
    },
    {
     "name": "stderr",
     "output_type": "stream",
     "text": [
      "C:\\Users\\George\\PycharmProjects\\GITFIF\\venv\\lib\\site-packages\\sklearn\\base.py:420: UserWarning: X does not have valid feature names, but IsolationForest was fitted with feature names\n",
      "  warnings.warn(\n"
     ]
    },
    {
     "name": "stdout",
     "output_type": "stream",
     "text": [
      "TP: 30\n",
      "FP: 1537\n",
      "FN: 1\n",
      "TN: 242\n"
     ]
    },
    {
     "name": "stderr",
     "output_type": "stream",
     "text": [
      "C:\\Users\\George\\PycharmProjects\\GITFIF\\venv\\lib\\site-packages\\sklearn\\base.py:420: UserWarning: X does not have valid feature names, but IsolationForest was fitted with feature names\n",
      "  warnings.warn(\n"
     ]
    },
    {
     "name": "stdout",
     "output_type": "stream",
     "text": [
      "TP: 30\n",
      "FP: 1551\n",
      "FN: 1\n",
      "TN: 228\n"
     ]
    },
    {
     "name": "stderr",
     "output_type": "stream",
     "text": [
      "C:\\Users\\George\\PycharmProjects\\GITFIF\\venv\\lib\\site-packages\\sklearn\\base.py:420: UserWarning: X does not have valid feature names, but IsolationForest was fitted with feature names\n",
      "  warnings.warn(\n"
     ]
    },
    {
     "name": "stdout",
     "output_type": "stream",
     "text": [
      "TP: 30\n",
      "FP: 1562\n",
      "FN: 1\n",
      "TN: 217\n"
     ]
    },
    {
     "name": "stderr",
     "output_type": "stream",
     "text": [
      "C:\\Users\\George\\PycharmProjects\\GITFIF\\venv\\lib\\site-packages\\sklearn\\base.py:420: UserWarning: X does not have valid feature names, but IsolationForest was fitted with feature names\n",
      "  warnings.warn(\n"
     ]
    },
    {
     "name": "stdout",
     "output_type": "stream",
     "text": [
      "TP: 30\n",
      "FP: 1576\n",
      "FN: 1\n",
      "TN: 203\n"
     ]
    },
    {
     "name": "stderr",
     "output_type": "stream",
     "text": [
      "C:\\Users\\George\\PycharmProjects\\GITFIF\\venv\\lib\\site-packages\\sklearn\\base.py:420: UserWarning: X does not have valid feature names, but IsolationForest was fitted with feature names\n",
      "  warnings.warn(\n"
     ]
    },
    {
     "name": "stdout",
     "output_type": "stream",
     "text": [
      "TP: 30\n",
      "FP: 1582\n",
      "FN: 1\n",
      "TN: 197\n"
     ]
    },
    {
     "name": "stderr",
     "output_type": "stream",
     "text": [
      "C:\\Users\\George\\PycharmProjects\\GITFIF\\venv\\lib\\site-packages\\sklearn\\base.py:420: UserWarning: X does not have valid feature names, but IsolationForest was fitted with feature names\n",
      "  warnings.warn(\n"
     ]
    },
    {
     "name": "stdout",
     "output_type": "stream",
     "text": [
      "TP: 30\n",
      "FP: 1586\n",
      "FN: 1\n",
      "TN: 193\n"
     ]
    },
    {
     "name": "stderr",
     "output_type": "stream",
     "text": [
      "C:\\Users\\George\\PycharmProjects\\GITFIF\\venv\\lib\\site-packages\\sklearn\\base.py:420: UserWarning: X does not have valid feature names, but IsolationForest was fitted with feature names\n",
      "  warnings.warn(\n"
     ]
    },
    {
     "name": "stdout",
     "output_type": "stream",
     "text": [
      "TP: 30\n",
      "FP: 1587\n",
      "FN: 1\n",
      "TN: 192\n"
     ]
    },
    {
     "name": "stderr",
     "output_type": "stream",
     "text": [
      "C:\\Users\\George\\PycharmProjects\\GITFIF\\venv\\lib\\site-packages\\sklearn\\base.py:420: UserWarning: X does not have valid feature names, but IsolationForest was fitted with feature names\n",
      "  warnings.warn(\n"
     ]
    },
    {
     "name": "stdout",
     "output_type": "stream",
     "text": [
      "TP: 30\n",
      "FP: 1588\n",
      "FN: 1\n",
      "TN: 191\n"
     ]
    }
   ],
   "source": [
    " #Running the ROC evaluation for the FIF and IF Selection Method\n",
    "cont,tpr,fpr,olap=wavelet1.rocauc(true)"
   ]
  },
  {
   "cell_type": "code",
   "execution_count": 14,
   "id": "fa564a4e",
   "metadata": {},
   "outputs": [
    {
     "data": {
      "image/png": "[encoded data removed]",
      "text/plain": [
       "<Figure size 640x480 with 1 Axes>"
      ]
     },
     "metadata": {},
     "output_type": "display_data"
    },
    {
     "name": "stdout",
     "output_type": "stream",
     "text": [
      "0.7205298373497253\n"
     ]
    }
   ],
   "source": [
    "#Plotting the ROC and AUC value\n",
    "a=auc(fpr,tpr)\n",
    "plt.plot(fpr,tpr)\n",
    "plt.title('ROC curve for FIF, Brownian Dic, Gaussian Reco, Variance Scaling, GBP 5Y Rate, IF Selection Log Returns (no duplicates), Autocor')\n",
    "plt.plot(fpr, tpr, color='lime', lw=2, label=f'AUC = {a:.2f}')\n",
    "plt.plot([0, 1], [0, 1], color='navy', lw=2, linestyle='--')\n",
    "plt.xlabel('False Positive Rate')\n",
    "plt.ylabel('True Positive Rate')\n",
    "plt.legend(loc='lower right')\n",
    "plt.show()\n",
    "print(auc(fpr,tpr))"
   ]
  },
  {
   "cell_type": "code",
   "execution_count": 15,
   "id": "37568a5e",
   "metadata": {},
   "outputs": [
    {
     "data": {
      "image/png": "[encoded data removed]",
      "text/plain": [
       "<Figure size 640x480 with 1 Axes>"
      ]
     },
     "metadata": {},
     "output_type": "display_data"
    }
   ],
   "source": [
    "#plotting contamination vs overlap\n",
    "plt.plot(cont, olap)\n",
    "plt.title('Overlap VS Contamination for GBP 5Y Rate')\n",
    "plt.xlabel('Contamination')\n",
    "plt.ylabel('Overlap (%)')\n",
    "plt.show()"
   ]
  },
  {
   "cell_type": "code",
   "execution_count": null,
   "id": "bcca4520",
   "metadata": {},
   "outputs": [],
   "source": []
  },
  {
   "cell_type": "code",
   "execution_count": null,
   "id": "0c91faec",
   "metadata": {},
   "outputs": [],
   "source": []
  },
  {
   "cell_type": "code",
   "execution_count": null,
   "id": "977c7543",
   "metadata": {},
   "outputs": [],
   "source": []
  },
  {
   "cell_type": "code",
   "execution_count": null,
   "id": "18d069ae",
   "metadata": {},
   "outputs": [],
   "source": []
  },
  {
   "cell_type": "code",
   "execution_count": null,
   "id": "83bcfc94",
   "metadata": {},
   "outputs": [],
   "source": []
  },
  {
   "cell_type": "code",
   "execution_count": null,
   "id": "f8123219",
   "metadata": {},
   "outputs": [],
   "source": []
  },
  {
   "cell_type": "code",
   "execution_count": null,
   "id": "99d8c999",
   "metadata": {},
   "outputs": [],
   "source": []
  },
  {
   "cell_type": "code",
   "execution_count": null,
   "id": "a2e7519c",
   "metadata": {},
   "outputs": [],
   "source": []
  },
  {
   "cell_type": "code",
   "execution_count": null,
   "id": "722543cb",
   "metadata": {},
   "outputs": [],
   "source": []
  },
  {
   "cell_type": "code",
   "execution_count": null,
   "id": "18178099",
   "metadata": {},
   "outputs": [],
   "source": []
  },
  {
   "cell_type": "code",
   "execution_count": null,
   "id": "586193c3",
   "metadata": {},
   "outputs": [],
   "source": []
  },
  {
   "cell_type": "code",
   "execution_count": null,
   "id": "077f3f0a",
   "metadata": {},
   "outputs": [],
   "source": []
  },
  {
   "cell_type": "code",
   "execution_count": null,
   "id": "f8de66a1",
   "metadata": {},
   "outputs": [],
   "source": []
  }
 ],
 "metadata": {
  "kernelspec": {
   "display_name": "Python 3 (ipykernel)",
   "language": "python",
   "name": "python3"
  },
  "language_info": {
   "codemirror_mode": {
    "name": "ipython",
    "version": 3
   },
   "file_extension": ".py",
   "mimetype": "text/x-python",
   "name": "python",
   "nbconvert_exporter": "python",
   "pygments_lexer": "ipython3",
   "version": "3.9.13"
  }
 },
 "nbformat": 4,
 "nbformat_minor": 5
}
